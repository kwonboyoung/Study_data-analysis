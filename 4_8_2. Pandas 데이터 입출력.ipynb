{
 "cells": [
  {
   "cell_type": "markdown",
   "metadata": {
    "collapsed": true
   },
   "source": [
    "Pandas는 CSV를 포함한 다양한 포맷의 데이터 파일을 읽어 직접 데이터프레임을 만들 수 있다. pandas 입출력 가능한 포맷의 종류는 다음과 같다.<br/>\n",
    "CSV <br/>\n",
    "Clipboard<br/>\n",
    "Excel<br/>\n",
    "JSON<br/>\n",
    "HTML<br/>\n",
    "Python Pickling<br/>\n",
    "Feather<br/>\n",
    "Msgpack<br/>\n",
    "HDF5<br/>\n",
    "SAS<br/>\n",
    "STATA<br/>\n",
    "SQL<br/>\n",
    "Google BigQuery"
   ]
  },
  {
   "cell_type": "markdown",
   "metadata": {},
   "source": [
    "## %%writefile 매직명령"
   ]
  },
  {
   "cell_type": "code",
   "execution_count": 10,
   "metadata": {
    "collapsed": true
   },
   "outputs": [],
   "source": [
    "import pandas as pd\n",
    "import numpy as np"
   ]
  },
  {
   "cell_type": "code",
   "execution_count": 13,
   "metadata": {
    "collapsed": false
   },
   "outputs": [
    {
     "data": {
      "text/plain": [
       "'C:\\\\pythondev\\\\study_da'"
      ]
     },
     "execution_count": 13,
     "metadata": {},
     "output_type": "execute_result"
    }
   ],
   "source": [
    "pwd"
   ]
  },
  {
   "cell_type": "code",
   "execution_count": 17,
   "metadata": {
    "collapsed": false
   },
   "outputs": [
    {
     "name": "stdout",
     "output_type": "stream",
     "text": [
      "Writing C:\\Users\\data/sample1.csv\n"
     ]
    }
   ],
   "source": [
    "%%writefile ~data/sample1.csv\n",
    "c1, c2, c3\n",
    "1,1.11,one\n",
    "2,2.22,two\n",
    "3,3.33,three"
   ]
  },
  {
   "cell_type": "markdown",
   "metadata": {},
   "source": [
    "## csv 파일 입력"
   ]
  },
  {
   "cell_type": "code",
   "execution_count": 18,
   "metadata": {
    "collapsed": false
   },
   "outputs": [
    {
     "data": {
      "text/html": [
       "<div>\n",
       "<table border=\"1\" class=\"dataframe\">\n",
       "  <thead>\n",
       "    <tr style=\"text-align: right;\">\n",
       "      <th></th>\n",
       "      <th>c1</th>\n",
       "      <th>c2</th>\n",
       "      <th>c3</th>\n",
       "    </tr>\n",
       "  </thead>\n",
       "  <tbody>\n",
       "    <tr>\n",
       "      <th>0</th>\n",
       "      <td>1</td>\n",
       "      <td>1.11</td>\n",
       "      <td>one</td>\n",
       "    </tr>\n",
       "    <tr>\n",
       "      <th>1</th>\n",
       "      <td>2</td>\n",
       "      <td>2.22</td>\n",
       "      <td>two</td>\n",
       "    </tr>\n",
       "    <tr>\n",
       "      <th>2</th>\n",
       "      <td>3</td>\n",
       "      <td>3.33</td>\n",
       "      <td>three</td>\n",
       "    </tr>\n",
       "  </tbody>\n",
       "</table>\n",
       "</div>"
      ],
      "text/plain": [
       "   c1    c2     c3\n",
       "0   1  1.11    one\n",
       "1   2  2.22    two\n",
       "2   3  3.33  three"
      ]
     },
     "execution_count": 18,
     "metadata": {},
     "output_type": "execute_result"
    }
   ],
   "source": [
    "pd.read_csv('~data/sample1.csv')"
   ]
  },
  {
   "cell_type": "code",
   "execution_count": 20,
   "metadata": {
    "collapsed": false
   },
   "outputs": [
    {
     "name": "stdout",
     "output_type": "stream",
     "text": [
      "Writing C:\\Users\\data/sample2.csv\n"
     ]
    }
   ],
   "source": [
    "%%writefile ~data/sample2.csv\n",
    "1,1.11,one\n",
    "2,2.22,two\n",
    "3,3.33,three"
   ]
  },
  {
   "cell_type": "code",
   "execution_count": 22,
   "metadata": {
    "collapsed": false
   },
   "outputs": [
    {
     "data": {
      "text/html": [
       "<div>\n",
       "<table border=\"1\" class=\"dataframe\">\n",
       "  <thead>\n",
       "    <tr style=\"text-align: right;\">\n",
       "      <th></th>\n",
       "      <th>c1</th>\n",
       "      <th>c2</th>\n",
       "      <th>c3</th>\n",
       "    </tr>\n",
       "  </thead>\n",
       "  <tbody>\n",
       "    <tr>\n",
       "      <th>0</th>\n",
       "      <td>1</td>\n",
       "      <td>1.11</td>\n",
       "      <td>one</td>\n",
       "    </tr>\n",
       "    <tr>\n",
       "      <th>1</th>\n",
       "      <td>2</td>\n",
       "      <td>2.22</td>\n",
       "      <td>two</td>\n",
       "    </tr>\n",
       "    <tr>\n",
       "      <th>2</th>\n",
       "      <td>3</td>\n",
       "      <td>3.33</td>\n",
       "      <td>three</td>\n",
       "    </tr>\n",
       "  </tbody>\n",
       "</table>\n",
       "</div>"
      ],
      "text/plain": [
       "   c1    c2     c3\n",
       "0   1  1.11    one\n",
       "1   2  2.22    two\n",
       "2   3  3.33  three"
      ]
     },
     "execution_count": 22,
     "metadata": {},
     "output_type": "execute_result"
    }
   ],
   "source": [
    "pd.read_csv('~data/sample2.csv',names=['c1','c2','c3'])"
   ]
  },
  {
   "cell_type": "code",
   "execution_count": 23,
   "metadata": {
    "collapsed": false
   },
   "outputs": [
    {
     "data": {
      "text/html": [
       "<div>\n",
       "<table border=\"1\" class=\"dataframe\">\n",
       "  <thead>\n",
       "    <tr style=\"text-align: right;\">\n",
       "      <th></th>\n",
       "      <th>c2</th>\n",
       "      <th>c3</th>\n",
       "    </tr>\n",
       "    <tr>\n",
       "      <th>c1</th>\n",
       "      <th></th>\n",
       "      <th></th>\n",
       "    </tr>\n",
       "  </thead>\n",
       "  <tbody>\n",
       "    <tr>\n",
       "      <th>1</th>\n",
       "      <td>1.11</td>\n",
       "      <td>one</td>\n",
       "    </tr>\n",
       "    <tr>\n",
       "      <th>2</th>\n",
       "      <td>2.22</td>\n",
       "      <td>two</td>\n",
       "    </tr>\n",
       "    <tr>\n",
       "      <th>3</th>\n",
       "      <td>3.33</td>\n",
       "      <td>three</td>\n",
       "    </tr>\n",
       "  </tbody>\n",
       "</table>\n",
       "</div>"
      ],
      "text/plain": [
       "      c2     c3\n",
       "c1             \n",
       "1   1.11    one\n",
       "2   2.22    two\n",
       "3   3.33  three"
      ]
     },
     "execution_count": 23,
     "metadata": {},
     "output_type": "execute_result"
    }
   ],
   "source": [
    "pd.read_csv('~data/sample1.csv',index_col='c1')"
   ]
  },
  {
   "cell_type": "code",
   "execution_count": 24,
   "metadata": {
    "collapsed": false
   },
   "outputs": [
    {
     "name": "stdout",
     "output_type": "stream",
     "text": [
      "Writing C:\\Users\\data/sample3.txt\n"
     ]
    }
   ],
   "source": [
    "%%writefile ~data/sample3.txt\n",
    "c1 c2 c3 c4\n",
    "0.179181 -1.538472 1.347553 0.43381\n",
    "1.024209 0.0897307 -1.271997 0.49265\n",
    "0.417899 -2.002308 0.255245 -1.10515"
   ]
  },
  {
   "cell_type": "markdown",
   "metadata": {},
   "source": [
    "[자주 사용하는 문자 클래스] => 정규식\n",
    "\n",
    "[0-9] 또는 [a-zA-Z] 등은 무척 자주 사용하는 정규 표현식이다. 이렇게 자주 사용하는 정규식들은 별도의 표기법으로 표현할 수 있다. 다음을 기억해 두자.\n",
    "\n",
    "\\d - 숫자와 매치, [0-9]와 동일한 표현식이다.\n",
    "\\D - 숫자가 아닌 것과 매치, [^0-9]와 동일한 표현식이다.\n",
    "\\s - whitespace 문자와 매치, [ \\t\\n\\r\\f\\v]와 동일한 표현식이다. 맨 앞의 빈 칸은 공백문자(space)를 의미한다.\n",
    "\\S - whitespace 문자가 아닌 것과 매치, [^ \\t\\n\\r\\f\\v]와 동일한 표현식이다.\n",
    "\\w - 문자+숫자(alphanumeric)와 매치, [a-zA-Z0-9]와 동일한 표현식이다.\n",
    "\\W - 문자+숫자(alphanumeric)가 아닌 문자와 매치, [^a-zA-Z0-9]와 동일한 표현식이다.\n",
    "대문자로 사용된 것은 소문자의 반대임을 추측할 수 있을 것이다."
   ]
  },
  {
   "cell_type": "code",
   "execution_count": 25,
   "metadata": {
    "collapsed": false
   },
   "outputs": [
    {
     "data": {
      "text/html": [
       "<div>\n",
       "<table border=\"1\" class=\"dataframe\">\n",
       "  <thead>\n",
       "    <tr style=\"text-align: right;\">\n",
       "      <th></th>\n",
       "      <th>c1</th>\n",
       "      <th>c2</th>\n",
       "      <th>c3</th>\n",
       "      <th>c4</th>\n",
       "    </tr>\n",
       "  </thead>\n",
       "  <tbody>\n",
       "    <tr>\n",
       "      <th>0</th>\n",
       "      <td>0.179181</td>\n",
       "      <td>-1.538472</td>\n",
       "      <td>1.347553</td>\n",
       "      <td>0.43381</td>\n",
       "    </tr>\n",
       "    <tr>\n",
       "      <th>1</th>\n",
       "      <td>1.024209</td>\n",
       "      <td>0.089731</td>\n",
       "      <td>-1.271997</td>\n",
       "      <td>0.49265</td>\n",
       "    </tr>\n",
       "    <tr>\n",
       "      <th>2</th>\n",
       "      <td>0.417899</td>\n",
       "      <td>-2.002308</td>\n",
       "      <td>0.255245</td>\n",
       "      <td>-1.10515</td>\n",
       "    </tr>\n",
       "  </tbody>\n",
       "</table>\n",
       "</div>"
      ],
      "text/plain": [
       "         c1        c2        c3       c4\n",
       "0  0.179181 -1.538472  1.347553  0.43381\n",
       "1  1.024209  0.089731 -1.271997  0.49265\n",
       "2  0.417899 -2.002308  0.255245 -1.10515"
      ]
     },
     "execution_count": 25,
     "metadata": {},
     "output_type": "execute_result"
    }
   ],
   "source": [
    "pd.read_csv('~data/sample3.txt', sep='\\s+')"
   ]
  },
  {
   "cell_type": "code",
   "execution_count": 26,
   "metadata": {
    "collapsed": false
   },
   "outputs": [
    {
     "name": "stdout",
     "output_type": "stream",
     "text": [
      "Writing C:\\Users\\data/sample4.txt\n"
     ]
    }
   ],
   "source": [
    "%%writefile ~data/sample4.txt\n",
    "파일제목 : sample4.txt\n",
    "데이터포맷의 설명 : \n",
    "1,1.11,one\n",
    "2,2.22,two\n",
    "3,3.33,three"
   ]
  },
  {
   "cell_type": "code",
   "execution_count": 29,
   "metadata": {
    "collapsed": false
   },
   "outputs": [
    {
     "data": {
      "text/html": [
       "<div>\n",
       "<table border=\"1\" class=\"dataframe\">\n",
       "  <thead>\n",
       "    <tr style=\"text-align: right;\">\n",
       "      <th></th>\n",
       "      <th>2</th>\n",
       "      <th>2.22</th>\n",
       "      <th>two</th>\n",
       "    </tr>\n",
       "  </thead>\n",
       "  <tbody>\n",
       "    <tr>\n",
       "      <th>0</th>\n",
       "      <td>3</td>\n",
       "      <td>3.33</td>\n",
       "      <td>three</td>\n",
       "    </tr>\n",
       "  </tbody>\n",
       "</table>\n",
       "</div>"
      ],
      "text/plain": [
       "   2  2.22    two\n",
       "0  3  3.33  three"
      ]
     },
     "execution_count": 29,
     "metadata": {},
     "output_type": "execute_result"
    }
   ],
   "source": [
    "pd.read_csv('~data/sample4.txt',skiprows=[0,1,2])"
   ]
  },
  {
   "cell_type": "code",
   "execution_count": 30,
   "metadata": {
    "collapsed": false
   },
   "outputs": [
    {
     "name": "stdout",
     "output_type": "stream",
     "text": [
      "Writing C:\\Users\\data/sample5.csv\n"
     ]
    }
   ],
   "source": [
    "%%writefile ~data/sample5.csv\n",
    "c1, c2, c3\n",
    "1, 1.11, one\n",
    "2,, two\n",
    "누락, 3.33, three"
   ]
  },
  {
   "cell_type": "code",
   "execution_count": 32,
   "metadata": {
    "collapsed": false
   },
   "outputs": [
    {
     "data": {
      "text/html": [
       "<div>\n",
       "<table border=\"1\" class=\"dataframe\">\n",
       "  <thead>\n",
       "    <tr style=\"text-align: right;\">\n",
       "      <th></th>\n",
       "      <th>c1</th>\n",
       "      <th>c2</th>\n",
       "      <th>c3</th>\n",
       "    </tr>\n",
       "  </thead>\n",
       "  <tbody>\n",
       "    <tr>\n",
       "      <th>0</th>\n",
       "      <td>1.0</td>\n",
       "      <td>1.11</td>\n",
       "      <td>one</td>\n",
       "    </tr>\n",
       "    <tr>\n",
       "      <th>1</th>\n",
       "      <td>2.0</td>\n",
       "      <td>NaN</td>\n",
       "      <td>two</td>\n",
       "    </tr>\n",
       "    <tr>\n",
       "      <th>2</th>\n",
       "      <td>NaN</td>\n",
       "      <td>3.33</td>\n",
       "      <td>three</td>\n",
       "    </tr>\n",
       "  </tbody>\n",
       "</table>\n",
       "</div>"
      ],
      "text/plain": [
       "    c1    c2      c3\n",
       "0  1.0  1.11     one\n",
       "1  2.0   NaN     two\n",
       "2  NaN  3.33   three"
      ]
     },
     "execution_count": 32,
     "metadata": {},
     "output_type": "execute_result"
    }
   ],
   "source": [
    "df=pd.read_csv('~data/sample5.csv', na_values=['누락'])\n",
    "df"
   ]
  },
  {
   "cell_type": "markdown",
   "metadata": {},
   "source": [
    "## csv 파일 출력"
   ]
  },
  {
   "cell_type": "code",
   "execution_count": 59,
   "metadata": {
    "collapsed": false
   },
   "outputs": [
    {
     "data": {
      "text/html": [
       "<div>\n",
       "<table border=\"1\" class=\"dataframe\">\n",
       "  <thead>\n",
       "    <tr style=\"text-align: right;\">\n",
       "      <th></th>\n",
       "      <th>Unnamed: 0</th>\n",
       "      <th>c1</th>\n",
       "      <th>c2</th>\n",
       "      <th>c3</th>\n",
       "    </tr>\n",
       "  </thead>\n",
       "  <tbody>\n",
       "    <tr>\n",
       "      <th>0</th>\n",
       "      <td>a</td>\n",
       "      <td>1.0</td>\n",
       "      <td>1.11</td>\n",
       "      <td>one</td>\n",
       "    </tr>\n",
       "    <tr>\n",
       "      <th>1</th>\n",
       "      <td>b</td>\n",
       "      <td>2.0</td>\n",
       "      <td>NaN</td>\n",
       "      <td>two</td>\n",
       "    </tr>\n",
       "    <tr>\n",
       "      <th>2</th>\n",
       "      <td>c</td>\n",
       "      <td>NaN</td>\n",
       "      <td>3.33</td>\n",
       "      <td>three</td>\n",
       "    </tr>\n",
       "  </tbody>\n",
       "</table>\n",
       "</div>"
      ],
      "text/plain": [
       "  Unnamed: 0   c1    c2      c3\n",
       "0          a  1.0  1.11     one\n",
       "1          b  2.0   NaN     two\n",
       "2          c  NaN  3.33   three"
      ]
     },
     "execution_count": 59,
     "metadata": {},
     "output_type": "execute_result"
    }
   ],
   "source": [
    "df.to_csv('~data/sample6.csv')\n",
    "pd.read_csv('~data/sample6.csv')"
   ]
  },
  {
   "cell_type": "code",
   "execution_count": 43,
   "metadata": {
    "collapsed": false
   },
   "outputs": [
    {
     "name": "stdout",
     "output_type": "stream",
     "text": [
      "잘못된 매개 변수입니다 - /sample6.csv\n"
     ]
    }
   ],
   "source": [
    "!more ~data/sample6.csv"
   ]
  },
  {
   "cell_type": "code",
   "execution_count": 54,
   "metadata": {
    "collapsed": false
   },
   "outputs": [
    {
     "data": {
      "text/html": [
       "<div>\n",
       "<table border=\"1\" class=\"dataframe\">\n",
       "  <thead>\n",
       "    <tr style=\"text-align: right;\">\n",
       "      <th></th>\n",
       "      <th>|c1| c2| c3</th>\n",
       "    </tr>\n",
       "  </thead>\n",
       "  <tbody>\n",
       "    <tr>\n",
       "      <th>0</th>\n",
       "      <td>a|1.0|1.11| one</td>\n",
       "    </tr>\n",
       "    <tr>\n",
       "      <th>1</th>\n",
       "      <td>b|2.0|| two</td>\n",
       "    </tr>\n",
       "    <tr>\n",
       "      <th>2</th>\n",
       "      <td>c||3.33| three</td>\n",
       "    </tr>\n",
       "  </tbody>\n",
       "</table>\n",
       "</div>"
      ],
      "text/plain": [
       "       |c1| c2| c3\n",
       "0  a|1.0|1.11| one\n",
       "1      b|2.0|| two\n",
       "2   c||3.33| three"
      ]
     },
     "execution_count": 54,
     "metadata": {},
     "output_type": "execute_result"
    }
   ],
   "source": [
    "df.to_csv('~data/sample7.txt',sep='|')\n",
    "pd.read_csv('~data/sample7.txt')"
   ]
  },
  {
   "cell_type": "code",
   "execution_count": 58,
   "metadata": {
    "collapsed": false
   },
   "outputs": [],
   "source": [
    "df.to_csv('~data/sample8.csv',na_rep='누락')"
   ]
  },
  {
   "cell_type": "code",
   "execution_count": 61,
   "metadata": {
    "collapsed": false
   },
   "outputs": [
    {
     "name": "stderr",
     "output_type": "stream",
     "text": [
      "'cat'은(는) 내부 또는 외부 명령, 실행할 수 있는 프로그램, 또는\n",
      "배치 파일이 아닙니다.\n"
     ]
    }
   ],
   "source": [
    "!cat ~data/sample8.csv"
   ]
  },
  {
   "cell_type": "code",
   "execution_count": 50,
   "metadata": {
    "collapsed": false
   },
   "outputs": [
    {
     "data": {
      "text/html": [
       "<div>\n",
       "<table border=\"1\" class=\"dataframe\">\n",
       "  <thead>\n",
       "    <tr style=\"text-align: right;\">\n",
       "      <th></th>\n",
       "      <th>c1</th>\n",
       "      <th>c2</th>\n",
       "      <th>c3</th>\n",
       "    </tr>\n",
       "  </thead>\n",
       "  <tbody>\n",
       "    <tr>\n",
       "      <th>a</th>\n",
       "      <td>1.0</td>\n",
       "      <td>1.11</td>\n",
       "      <td>one</td>\n",
       "    </tr>\n",
       "    <tr>\n",
       "      <th>b</th>\n",
       "      <td>2.0</td>\n",
       "      <td>NaN</td>\n",
       "      <td>two</td>\n",
       "    </tr>\n",
       "    <tr>\n",
       "      <th>c</th>\n",
       "      <td>NaN</td>\n",
       "      <td>3.33</td>\n",
       "      <td>three</td>\n",
       "    </tr>\n",
       "  </tbody>\n",
       "</table>\n",
       "</div>"
      ],
      "text/plain": [
       "    c1    c2      c3\n",
       "a  1.0  1.11     one\n",
       "b  2.0   NaN     two\n",
       "c  NaN  3.33   three"
      ]
     },
     "execution_count": 50,
     "metadata": {},
     "output_type": "execute_result"
    }
   ],
   "source": [
    "df.index=[\"a\",\"b\",\"c\"]\n",
    "df"
   ]
  },
  {
   "cell_type": "code",
   "execution_count": 53,
   "metadata": {
    "collapsed": false
   },
   "outputs": [
    {
     "data": {
      "text/html": [
       "<div>\n",
       "<table border=\"1\" class=\"dataframe\">\n",
       "  <thead>\n",
       "    <tr style=\"text-align: right;\">\n",
       "      <th></th>\n",
       "      <th>1.0</th>\n",
       "      <th>1.11</th>\n",
       "      <th>one</th>\n",
       "    </tr>\n",
       "  </thead>\n",
       "  <tbody>\n",
       "    <tr>\n",
       "      <th>0</th>\n",
       "      <td>2.0</td>\n",
       "      <td>NaN</td>\n",
       "      <td>two</td>\n",
       "    </tr>\n",
       "    <tr>\n",
       "      <th>1</th>\n",
       "      <td>NaN</td>\n",
       "      <td>3.33</td>\n",
       "      <td>three</td>\n",
       "    </tr>\n",
       "  </tbody>\n",
       "</table>\n",
       "</div>"
      ],
      "text/plain": [
       "   1.0  1.11     one\n",
       "0  2.0   NaN     two\n",
       "1  NaN  3.33   three"
      ]
     },
     "execution_count": 53,
     "metadata": {},
     "output_type": "execute_result"
    }
   ],
   "source": [
    "df.to_csv('~data/sample9.csv',index=False, header=False)\n",
    "pd.read_csv('~data/sample9.csv')"
   ]
  },
  {
   "cell_type": "markdown",
   "metadata": {},
   "source": [
    "## 인터넷 상의 csv 파일 입력"
   ]
  },
  {
   "cell_type": "markdown",
   "metadata": {},
   "source": [
    "웹 상에는 다양한 데이터 파일이 csv 파일 형태로 제공된다. read_csv 명령 사용시 파일 패스 대신 url을 지정하면 pandas가 직접 해당 파일을 다운로드하여 읽어들인다. 다음은 구글 파이낸스에서 제공하는 애플의 주가 데이터를 담은 csv 파일을 읽는 법이다."
   ]
  },
  {
   "cell_type": "code",
   "execution_count": 62,
   "metadata": {
    "collapsed": true
   },
   "outputs": [],
   "source": [
    "df = pd.read_csv('http://www.google.com/finance/historical?q=NASDAQ%3AAAPL&output=csv')"
   ]
  },
  {
   "cell_type": "markdown",
   "metadata": {},
   "source": [
    " 데이터의 수가 많을 경우, 데이터프레임의 표현(representation)은 데이터 앞, 뒤의 일부분만 보여준다."
   ]
  },
  {
   "cell_type": "code",
   "execution_count": 64,
   "metadata": {
    "collapsed": false
   },
   "outputs": [
    {
     "data": {
      "text/html": [
       "<div>\n",
       "<table border=\"1\" class=\"dataframe\">\n",
       "  <thead>\n",
       "    <tr style=\"text-align: right;\">\n",
       "      <th></th>\n",
       "      <th>Date</th>\n",
       "      <th>Open</th>\n",
       "      <th>High</th>\n",
       "      <th>Low</th>\n",
       "      <th>Close</th>\n",
       "      <th>Volume</th>\n",
       "    </tr>\n",
       "  </thead>\n",
       "  <tbody>\n",
       "    <tr>\n",
       "      <th>0</th>\n",
       "      <td>28-Aug-17</td>\n",
       "      <td>160.14</td>\n",
       "      <td>162.00</td>\n",
       "      <td>159.93</td>\n",
       "      <td>161.47</td>\n",
       "      <td>25965972</td>\n",
       "    </tr>\n",
       "    <tr>\n",
       "      <th>1</th>\n",
       "      <td>25-Aug-17</td>\n",
       "      <td>159.65</td>\n",
       "      <td>160.56</td>\n",
       "      <td>159.27</td>\n",
       "      <td>159.86</td>\n",
       "      <td>25480063</td>\n",
       "    </tr>\n",
       "    <tr>\n",
       "      <th>2</th>\n",
       "      <td>24-Aug-17</td>\n",
       "      <td>160.43</td>\n",
       "      <td>160.74</td>\n",
       "      <td>158.55</td>\n",
       "      <td>159.27</td>\n",
       "      <td>19818918</td>\n",
       "    </tr>\n",
       "    <tr>\n",
       "      <th>3</th>\n",
       "      <td>23-Aug-17</td>\n",
       "      <td>159.07</td>\n",
       "      <td>160.47</td>\n",
       "      <td>158.88</td>\n",
       "      <td>159.98</td>\n",
       "      <td>19399081</td>\n",
       "    </tr>\n",
       "    <tr>\n",
       "      <th>4</th>\n",
       "      <td>22-Aug-17</td>\n",
       "      <td>158.23</td>\n",
       "      <td>160.00</td>\n",
       "      <td>158.02</td>\n",
       "      <td>159.78</td>\n",
       "      <td>21604585</td>\n",
       "    </tr>\n",
       "    <tr>\n",
       "      <th>5</th>\n",
       "      <td>21-Aug-17</td>\n",
       "      <td>157.50</td>\n",
       "      <td>157.89</td>\n",
       "      <td>155.11</td>\n",
       "      <td>157.21</td>\n",
       "      <td>26368528</td>\n",
       "    </tr>\n",
       "    <tr>\n",
       "      <th>6</th>\n",
       "      <td>18-Aug-17</td>\n",
       "      <td>157.86</td>\n",
       "      <td>159.50</td>\n",
       "      <td>156.72</td>\n",
       "      <td>157.50</td>\n",
       "      <td>27428069</td>\n",
       "    </tr>\n",
       "    <tr>\n",
       "      <th>7</th>\n",
       "      <td>17-Aug-17</td>\n",
       "      <td>160.52</td>\n",
       "      <td>160.71</td>\n",
       "      <td>157.84</td>\n",
       "      <td>157.86</td>\n",
       "      <td>27940565</td>\n",
       "    </tr>\n",
       "    <tr>\n",
       "      <th>8</th>\n",
       "      <td>16-Aug-17</td>\n",
       "      <td>161.94</td>\n",
       "      <td>162.51</td>\n",
       "      <td>160.15</td>\n",
       "      <td>160.95</td>\n",
       "      <td>27671612</td>\n",
       "    </tr>\n",
       "    <tr>\n",
       "      <th>9</th>\n",
       "      <td>15-Aug-17</td>\n",
       "      <td>160.66</td>\n",
       "      <td>162.20</td>\n",
       "      <td>160.14</td>\n",
       "      <td>161.60</td>\n",
       "      <td>29465487</td>\n",
       "    </tr>\n",
       "    <tr>\n",
       "      <th>10</th>\n",
       "      <td>14-Aug-17</td>\n",
       "      <td>159.32</td>\n",
       "      <td>160.21</td>\n",
       "      <td>158.75</td>\n",
       "      <td>159.85</td>\n",
       "      <td>22122734</td>\n",
       "    </tr>\n",
       "    <tr>\n",
       "      <th>11</th>\n",
       "      <td>11-Aug-17</td>\n",
       "      <td>156.60</td>\n",
       "      <td>158.57</td>\n",
       "      <td>156.07</td>\n",
       "      <td>157.48</td>\n",
       "      <td>26257096</td>\n",
       "    </tr>\n",
       "    <tr>\n",
       "      <th>12</th>\n",
       "      <td>10-Aug-17</td>\n",
       "      <td>159.90</td>\n",
       "      <td>160.00</td>\n",
       "      <td>154.63</td>\n",
       "      <td>155.32</td>\n",
       "      <td>40804273</td>\n",
       "    </tr>\n",
       "    <tr>\n",
       "      <th>13</th>\n",
       "      <td>9-Aug-17</td>\n",
       "      <td>159.26</td>\n",
       "      <td>161.27</td>\n",
       "      <td>159.11</td>\n",
       "      <td>161.06</td>\n",
       "      <td>26131530</td>\n",
       "    </tr>\n",
       "    <tr>\n",
       "      <th>14</th>\n",
       "      <td>8-Aug-17</td>\n",
       "      <td>158.60</td>\n",
       "      <td>161.83</td>\n",
       "      <td>158.27</td>\n",
       "      <td>160.08</td>\n",
       "      <td>36205896</td>\n",
       "    </tr>\n",
       "    <tr>\n",
       "      <th>15</th>\n",
       "      <td>7-Aug-17</td>\n",
       "      <td>157.06</td>\n",
       "      <td>158.92</td>\n",
       "      <td>156.67</td>\n",
       "      <td>158.81</td>\n",
       "      <td>21870321</td>\n",
       "    </tr>\n",
       "    <tr>\n",
       "      <th>16</th>\n",
       "      <td>4-Aug-17</td>\n",
       "      <td>156.07</td>\n",
       "      <td>157.40</td>\n",
       "      <td>155.69</td>\n",
       "      <td>156.39</td>\n",
       "      <td>20559852</td>\n",
       "    </tr>\n",
       "    <tr>\n",
       "      <th>17</th>\n",
       "      <td>3-Aug-17</td>\n",
       "      <td>157.05</td>\n",
       "      <td>157.21</td>\n",
       "      <td>155.02</td>\n",
       "      <td>155.57</td>\n",
       "      <td>27097296</td>\n",
       "    </tr>\n",
       "    <tr>\n",
       "      <th>18</th>\n",
       "      <td>2-Aug-17</td>\n",
       "      <td>159.28</td>\n",
       "      <td>159.75</td>\n",
       "      <td>156.16</td>\n",
       "      <td>157.14</td>\n",
       "      <td>69936800</td>\n",
       "    </tr>\n",
       "    <tr>\n",
       "      <th>19</th>\n",
       "      <td>1-Aug-17</td>\n",
       "      <td>149.10</td>\n",
       "      <td>150.22</td>\n",
       "      <td>148.41</td>\n",
       "      <td>150.05</td>\n",
       "      <td>35368645</td>\n",
       "    </tr>\n",
       "    <tr>\n",
       "      <th>20</th>\n",
       "      <td>31-Jul-17</td>\n",
       "      <td>149.90</td>\n",
       "      <td>150.33</td>\n",
       "      <td>148.13</td>\n",
       "      <td>148.73</td>\n",
       "      <td>19845920</td>\n",
       "    </tr>\n",
       "    <tr>\n",
       "      <th>21</th>\n",
       "      <td>28-Jul-17</td>\n",
       "      <td>149.89</td>\n",
       "      <td>150.23</td>\n",
       "      <td>149.19</td>\n",
       "      <td>149.50</td>\n",
       "      <td>17213653</td>\n",
       "    </tr>\n",
       "    <tr>\n",
       "      <th>22</th>\n",
       "      <td>27-Jul-17</td>\n",
       "      <td>153.75</td>\n",
       "      <td>153.99</td>\n",
       "      <td>147.30</td>\n",
       "      <td>150.56</td>\n",
       "      <td>32476337</td>\n",
       "    </tr>\n",
       "    <tr>\n",
       "      <th>23</th>\n",
       "      <td>26-Jul-17</td>\n",
       "      <td>153.35</td>\n",
       "      <td>153.93</td>\n",
       "      <td>153.06</td>\n",
       "      <td>153.46</td>\n",
       "      <td>15780951</td>\n",
       "    </tr>\n",
       "    <tr>\n",
       "      <th>24</th>\n",
       "      <td>25-Jul-17</td>\n",
       "      <td>151.80</td>\n",
       "      <td>153.84</td>\n",
       "      <td>151.80</td>\n",
       "      <td>152.74</td>\n",
       "      <td>18853932</td>\n",
       "    </tr>\n",
       "    <tr>\n",
       "      <th>25</th>\n",
       "      <td>24-Jul-17</td>\n",
       "      <td>150.58</td>\n",
       "      <td>152.44</td>\n",
       "      <td>149.90</td>\n",
       "      <td>152.09</td>\n",
       "      <td>21493160</td>\n",
       "    </tr>\n",
       "    <tr>\n",
       "      <th>26</th>\n",
       "      <td>21-Jul-17</td>\n",
       "      <td>149.99</td>\n",
       "      <td>150.44</td>\n",
       "      <td>148.88</td>\n",
       "      <td>150.27</td>\n",
       "      <td>26252630</td>\n",
       "    </tr>\n",
       "    <tr>\n",
       "      <th>27</th>\n",
       "      <td>20-Jul-17</td>\n",
       "      <td>151.50</td>\n",
       "      <td>151.74</td>\n",
       "      <td>150.19</td>\n",
       "      <td>150.34</td>\n",
       "      <td>17243748</td>\n",
       "    </tr>\n",
       "    <tr>\n",
       "      <th>28</th>\n",
       "      <td>19-Jul-17</td>\n",
       "      <td>150.48</td>\n",
       "      <td>151.42</td>\n",
       "      <td>149.95</td>\n",
       "      <td>151.02</td>\n",
       "      <td>20922969</td>\n",
       "    </tr>\n",
       "    <tr>\n",
       "      <th>29</th>\n",
       "      <td>18-Jul-17</td>\n",
       "      <td>149.20</td>\n",
       "      <td>150.13</td>\n",
       "      <td>148.67</td>\n",
       "      <td>150.08</td>\n",
       "      <td>17868792</td>\n",
       "    </tr>\n",
       "    <tr>\n",
       "      <th>...</th>\n",
       "      <td>...</td>\n",
       "      <td>...</td>\n",
       "      <td>...</td>\n",
       "      <td>...</td>\n",
       "      <td>...</td>\n",
       "      <td>...</td>\n",
       "    </tr>\n",
       "    <tr>\n",
       "      <th>221</th>\n",
       "      <td>11-Oct-16</td>\n",
       "      <td>117.70</td>\n",
       "      <td>118.69</td>\n",
       "      <td>116.20</td>\n",
       "      <td>116.30</td>\n",
       "      <td>64041043</td>\n",
       "    </tr>\n",
       "    <tr>\n",
       "      <th>222</th>\n",
       "      <td>10-Oct-16</td>\n",
       "      <td>115.02</td>\n",
       "      <td>116.75</td>\n",
       "      <td>114.72</td>\n",
       "      <td>116.05</td>\n",
       "      <td>36235956</td>\n",
       "    </tr>\n",
       "    <tr>\n",
       "      <th>223</th>\n",
       "      <td>7-Oct-16</td>\n",
       "      <td>114.31</td>\n",
       "      <td>114.56</td>\n",
       "      <td>113.51</td>\n",
       "      <td>114.06</td>\n",
       "      <td>24358443</td>\n",
       "    </tr>\n",
       "    <tr>\n",
       "      <th>224</th>\n",
       "      <td>6-Oct-16</td>\n",
       "      <td>113.70</td>\n",
       "      <td>114.34</td>\n",
       "      <td>113.13</td>\n",
       "      <td>113.89</td>\n",
       "      <td>28779313</td>\n",
       "    </tr>\n",
       "    <tr>\n",
       "      <th>225</th>\n",
       "      <td>5-Oct-16</td>\n",
       "      <td>113.40</td>\n",
       "      <td>113.66</td>\n",
       "      <td>112.69</td>\n",
       "      <td>113.05</td>\n",
       "      <td>21453089</td>\n",
       "    </tr>\n",
       "    <tr>\n",
       "      <th>226</th>\n",
       "      <td>4-Oct-16</td>\n",
       "      <td>113.06</td>\n",
       "      <td>114.31</td>\n",
       "      <td>112.63</td>\n",
       "      <td>113.00</td>\n",
       "      <td>29736835</td>\n",
       "    </tr>\n",
       "    <tr>\n",
       "      <th>227</th>\n",
       "      <td>3-Oct-16</td>\n",
       "      <td>112.71</td>\n",
       "      <td>113.05</td>\n",
       "      <td>112.28</td>\n",
       "      <td>112.52</td>\n",
       "      <td>21701760</td>\n",
       "    </tr>\n",
       "    <tr>\n",
       "      <th>228</th>\n",
       "      <td>30-Sep-16</td>\n",
       "      <td>112.46</td>\n",
       "      <td>113.37</td>\n",
       "      <td>111.80</td>\n",
       "      <td>113.05</td>\n",
       "      <td>36379106</td>\n",
       "    </tr>\n",
       "    <tr>\n",
       "      <th>229</th>\n",
       "      <td>29-Sep-16</td>\n",
       "      <td>113.16</td>\n",
       "      <td>113.80</td>\n",
       "      <td>111.80</td>\n",
       "      <td>112.18</td>\n",
       "      <td>35886990</td>\n",
       "    </tr>\n",
       "    <tr>\n",
       "      <th>230</th>\n",
       "      <td>28-Sep-16</td>\n",
       "      <td>113.69</td>\n",
       "      <td>114.64</td>\n",
       "      <td>113.43</td>\n",
       "      <td>113.95</td>\n",
       "      <td>29641085</td>\n",
       "    </tr>\n",
       "    <tr>\n",
       "      <th>231</th>\n",
       "      <td>27-Sep-16</td>\n",
       "      <td>113.00</td>\n",
       "      <td>113.18</td>\n",
       "      <td>112.34</td>\n",
       "      <td>113.09</td>\n",
       "      <td>24607412</td>\n",
       "    </tr>\n",
       "    <tr>\n",
       "      <th>232</th>\n",
       "      <td>26-Sep-16</td>\n",
       "      <td>111.64</td>\n",
       "      <td>113.39</td>\n",
       "      <td>111.55</td>\n",
       "      <td>112.88</td>\n",
       "      <td>29869442</td>\n",
       "    </tr>\n",
       "    <tr>\n",
       "      <th>233</th>\n",
       "      <td>23-Sep-16</td>\n",
       "      <td>114.42</td>\n",
       "      <td>114.79</td>\n",
       "      <td>111.55</td>\n",
       "      <td>112.71</td>\n",
       "      <td>52481151</td>\n",
       "    </tr>\n",
       "    <tr>\n",
       "      <th>234</th>\n",
       "      <td>22-Sep-16</td>\n",
       "      <td>114.35</td>\n",
       "      <td>114.94</td>\n",
       "      <td>114.00</td>\n",
       "      <td>114.62</td>\n",
       "      <td>31073984</td>\n",
       "    </tr>\n",
       "    <tr>\n",
       "      <th>235</th>\n",
       "      <td>21-Sep-16</td>\n",
       "      <td>113.85</td>\n",
       "      <td>113.99</td>\n",
       "      <td>112.44</td>\n",
       "      <td>113.55</td>\n",
       "      <td>36003185</td>\n",
       "    </tr>\n",
       "    <tr>\n",
       "      <th>236</th>\n",
       "      <td>20-Sep-16</td>\n",
       "      <td>113.05</td>\n",
       "      <td>114.12</td>\n",
       "      <td>112.51</td>\n",
       "      <td>113.57</td>\n",
       "      <td>34514269</td>\n",
       "    </tr>\n",
       "    <tr>\n",
       "      <th>237</th>\n",
       "      <td>19-Sep-16</td>\n",
       "      <td>115.19</td>\n",
       "      <td>116.18</td>\n",
       "      <td>113.25</td>\n",
       "      <td>113.58</td>\n",
       "      <td>47023046</td>\n",
       "    </tr>\n",
       "    <tr>\n",
       "      <th>238</th>\n",
       "      <td>16-Sep-16</td>\n",
       "      <td>115.12</td>\n",
       "      <td>116.13</td>\n",
       "      <td>114.04</td>\n",
       "      <td>114.92</td>\n",
       "      <td>79886911</td>\n",
       "    </tr>\n",
       "    <tr>\n",
       "      <th>239</th>\n",
       "      <td>15-Sep-16</td>\n",
       "      <td>113.86</td>\n",
       "      <td>115.73</td>\n",
       "      <td>113.49</td>\n",
       "      <td>115.57</td>\n",
       "      <td>90613177</td>\n",
       "    </tr>\n",
       "    <tr>\n",
       "      <th>240</th>\n",
       "      <td>14-Sep-16</td>\n",
       "      <td>108.73</td>\n",
       "      <td>113.03</td>\n",
       "      <td>108.60</td>\n",
       "      <td>111.77</td>\n",
       "      <td>112340318</td>\n",
       "    </tr>\n",
       "    <tr>\n",
       "      <th>241</th>\n",
       "      <td>13-Sep-16</td>\n",
       "      <td>107.51</td>\n",
       "      <td>108.79</td>\n",
       "      <td>107.24</td>\n",
       "      <td>107.95</td>\n",
       "      <td>62176190</td>\n",
       "    </tr>\n",
       "    <tr>\n",
       "      <th>242</th>\n",
       "      <td>12-Sep-16</td>\n",
       "      <td>102.65</td>\n",
       "      <td>105.72</td>\n",
       "      <td>102.53</td>\n",
       "      <td>105.44</td>\n",
       "      <td>45292770</td>\n",
       "    </tr>\n",
       "    <tr>\n",
       "      <th>243</th>\n",
       "      <td>9-Sep-16</td>\n",
       "      <td>104.64</td>\n",
       "      <td>105.72</td>\n",
       "      <td>103.13</td>\n",
       "      <td>103.13</td>\n",
       "      <td>46556984</td>\n",
       "    </tr>\n",
       "    <tr>\n",
       "      <th>244</th>\n",
       "      <td>8-Sep-16</td>\n",
       "      <td>107.25</td>\n",
       "      <td>107.27</td>\n",
       "      <td>105.24</td>\n",
       "      <td>105.52</td>\n",
       "      <td>53002026</td>\n",
       "    </tr>\n",
       "    <tr>\n",
       "      <th>245</th>\n",
       "      <td>7-Sep-16</td>\n",
       "      <td>107.83</td>\n",
       "      <td>108.76</td>\n",
       "      <td>107.07</td>\n",
       "      <td>108.36</td>\n",
       "      <td>42364328</td>\n",
       "    </tr>\n",
       "    <tr>\n",
       "      <th>246</th>\n",
       "      <td>6-Sep-16</td>\n",
       "      <td>107.90</td>\n",
       "      <td>108.30</td>\n",
       "      <td>107.51</td>\n",
       "      <td>107.70</td>\n",
       "      <td>26880391</td>\n",
       "    </tr>\n",
       "    <tr>\n",
       "      <th>247</th>\n",
       "      <td>2-Sep-16</td>\n",
       "      <td>107.70</td>\n",
       "      <td>108.00</td>\n",
       "      <td>106.82</td>\n",
       "      <td>107.73</td>\n",
       "      <td>26334858</td>\n",
       "    </tr>\n",
       "    <tr>\n",
       "      <th>248</th>\n",
       "      <td>1-Sep-16</td>\n",
       "      <td>106.14</td>\n",
       "      <td>106.80</td>\n",
       "      <td>105.62</td>\n",
       "      <td>106.73</td>\n",
       "      <td>26701523</td>\n",
       "    </tr>\n",
       "    <tr>\n",
       "      <th>249</th>\n",
       "      <td>31-Aug-16</td>\n",
       "      <td>105.66</td>\n",
       "      <td>106.57</td>\n",
       "      <td>105.64</td>\n",
       "      <td>106.10</td>\n",
       "      <td>29662406</td>\n",
       "    </tr>\n",
       "    <tr>\n",
       "      <th>250</th>\n",
       "      <td>30-Aug-16</td>\n",
       "      <td>105.80</td>\n",
       "      <td>106.50</td>\n",
       "      <td>105.50</td>\n",
       "      <td>106.00</td>\n",
       "      <td>24863945</td>\n",
       "    </tr>\n",
       "  </tbody>\n",
       "</table>\n",
       "<p>251 rows × 6 columns</p>\n",
       "</div>"
      ],
      "text/plain": [
       "          Date    Open    High     Low   Close     Volume\n",
       "0    28-Aug-17  160.14  162.00  159.93  161.47   25965972\n",
       "1    25-Aug-17  159.65  160.56  159.27  159.86   25480063\n",
       "2    24-Aug-17  160.43  160.74  158.55  159.27   19818918\n",
       "3    23-Aug-17  159.07  160.47  158.88  159.98   19399081\n",
       "4    22-Aug-17  158.23  160.00  158.02  159.78   21604585\n",
       "5    21-Aug-17  157.50  157.89  155.11  157.21   26368528\n",
       "6    18-Aug-17  157.86  159.50  156.72  157.50   27428069\n",
       "7    17-Aug-17  160.52  160.71  157.84  157.86   27940565\n",
       "8    16-Aug-17  161.94  162.51  160.15  160.95   27671612\n",
       "9    15-Aug-17  160.66  162.20  160.14  161.60   29465487\n",
       "10   14-Aug-17  159.32  160.21  158.75  159.85   22122734\n",
       "11   11-Aug-17  156.60  158.57  156.07  157.48   26257096\n",
       "12   10-Aug-17  159.90  160.00  154.63  155.32   40804273\n",
       "13    9-Aug-17  159.26  161.27  159.11  161.06   26131530\n",
       "14    8-Aug-17  158.60  161.83  158.27  160.08   36205896\n",
       "15    7-Aug-17  157.06  158.92  156.67  158.81   21870321\n",
       "16    4-Aug-17  156.07  157.40  155.69  156.39   20559852\n",
       "17    3-Aug-17  157.05  157.21  155.02  155.57   27097296\n",
       "18    2-Aug-17  159.28  159.75  156.16  157.14   69936800\n",
       "19    1-Aug-17  149.10  150.22  148.41  150.05   35368645\n",
       "20   31-Jul-17  149.90  150.33  148.13  148.73   19845920\n",
       "21   28-Jul-17  149.89  150.23  149.19  149.50   17213653\n",
       "22   27-Jul-17  153.75  153.99  147.30  150.56   32476337\n",
       "23   26-Jul-17  153.35  153.93  153.06  153.46   15780951\n",
       "24   25-Jul-17  151.80  153.84  151.80  152.74   18853932\n",
       "25   24-Jul-17  150.58  152.44  149.90  152.09   21493160\n",
       "26   21-Jul-17  149.99  150.44  148.88  150.27   26252630\n",
       "27   20-Jul-17  151.50  151.74  150.19  150.34   17243748\n",
       "28   19-Jul-17  150.48  151.42  149.95  151.02   20922969\n",
       "29   18-Jul-17  149.20  150.13  148.67  150.08   17868792\n",
       "..         ...     ...     ...     ...     ...        ...\n",
       "221  11-Oct-16  117.70  118.69  116.20  116.30   64041043\n",
       "222  10-Oct-16  115.02  116.75  114.72  116.05   36235956\n",
       "223   7-Oct-16  114.31  114.56  113.51  114.06   24358443\n",
       "224   6-Oct-16  113.70  114.34  113.13  113.89   28779313\n",
       "225   5-Oct-16  113.40  113.66  112.69  113.05   21453089\n",
       "226   4-Oct-16  113.06  114.31  112.63  113.00   29736835\n",
       "227   3-Oct-16  112.71  113.05  112.28  112.52   21701760\n",
       "228  30-Sep-16  112.46  113.37  111.80  113.05   36379106\n",
       "229  29-Sep-16  113.16  113.80  111.80  112.18   35886990\n",
       "230  28-Sep-16  113.69  114.64  113.43  113.95   29641085\n",
       "231  27-Sep-16  113.00  113.18  112.34  113.09   24607412\n",
       "232  26-Sep-16  111.64  113.39  111.55  112.88   29869442\n",
       "233  23-Sep-16  114.42  114.79  111.55  112.71   52481151\n",
       "234  22-Sep-16  114.35  114.94  114.00  114.62   31073984\n",
       "235  21-Sep-16  113.85  113.99  112.44  113.55   36003185\n",
       "236  20-Sep-16  113.05  114.12  112.51  113.57   34514269\n",
       "237  19-Sep-16  115.19  116.18  113.25  113.58   47023046\n",
       "238  16-Sep-16  115.12  116.13  114.04  114.92   79886911\n",
       "239  15-Sep-16  113.86  115.73  113.49  115.57   90613177\n",
       "240  14-Sep-16  108.73  113.03  108.60  111.77  112340318\n",
       "241  13-Sep-16  107.51  108.79  107.24  107.95   62176190\n",
       "242  12-Sep-16  102.65  105.72  102.53  105.44   45292770\n",
       "243   9-Sep-16  104.64  105.72  103.13  103.13   46556984\n",
       "244   8-Sep-16  107.25  107.27  105.24  105.52   53002026\n",
       "245   7-Sep-16  107.83  108.76  107.07  108.36   42364328\n",
       "246   6-Sep-16  107.90  108.30  107.51  107.70   26880391\n",
       "247   2-Sep-16  107.70  108.00  106.82  107.73   26334858\n",
       "248   1-Sep-16  106.14  106.80  105.62  106.73   26701523\n",
       "249  31-Aug-16  105.66  106.57  105.64  106.10   29662406\n",
       "250  30-Aug-16  105.80  106.50  105.50  106.00   24863945\n",
       "\n",
       "[251 rows x 6 columns]"
      ]
     },
     "execution_count": 64,
     "metadata": {},
     "output_type": "execute_result"
    }
   ],
   "source": [
    "df"
   ]
  },
  {
   "cell_type": "code",
   "execution_count": 65,
   "metadata": {
    "collapsed": false
   },
   "outputs": [
    {
     "data": {
      "text/html": [
       "<div>\n",
       "<table border=\"1\" class=\"dataframe\">\n",
       "  <thead>\n",
       "    <tr style=\"text-align: right;\">\n",
       "      <th></th>\n",
       "      <th>Date</th>\n",
       "      <th>Open</th>\n",
       "      <th>High</th>\n",
       "      <th>Low</th>\n",
       "      <th>Close</th>\n",
       "      <th>Volume</th>\n",
       "    </tr>\n",
       "  </thead>\n",
       "  <tbody>\n",
       "    <tr>\n",
       "      <th>0</th>\n",
       "      <td>28-Aug-17</td>\n",
       "      <td>160.14</td>\n",
       "      <td>162.00</td>\n",
       "      <td>159.93</td>\n",
       "      <td>161.47</td>\n",
       "      <td>25965972</td>\n",
       "    </tr>\n",
       "    <tr>\n",
       "      <th>1</th>\n",
       "      <td>25-Aug-17</td>\n",
       "      <td>159.65</td>\n",
       "      <td>160.56</td>\n",
       "      <td>159.27</td>\n",
       "      <td>159.86</td>\n",
       "      <td>25480063</td>\n",
       "    </tr>\n",
       "    <tr>\n",
       "      <th>2</th>\n",
       "      <td>24-Aug-17</td>\n",
       "      <td>160.43</td>\n",
       "      <td>160.74</td>\n",
       "      <td>158.55</td>\n",
       "      <td>159.27</td>\n",
       "      <td>19818918</td>\n",
       "    </tr>\n",
       "    <tr>\n",
       "      <th>3</th>\n",
       "      <td>23-Aug-17</td>\n",
       "      <td>159.07</td>\n",
       "      <td>160.47</td>\n",
       "      <td>158.88</td>\n",
       "      <td>159.98</td>\n",
       "      <td>19399081</td>\n",
       "    </tr>\n",
       "    <tr>\n",
       "      <th>4</th>\n",
       "      <td>22-Aug-17</td>\n",
       "      <td>158.23</td>\n",
       "      <td>160.00</td>\n",
       "      <td>158.02</td>\n",
       "      <td>159.78</td>\n",
       "      <td>21604585</td>\n",
       "    </tr>\n",
       "  </tbody>\n",
       "</table>\n",
       "</div>"
      ],
      "text/plain": [
       "        Date    Open    High     Low   Close    Volume\n",
       "0  28-Aug-17  160.14  162.00  159.93  161.47  25965972\n",
       "1  25-Aug-17  159.65  160.56  159.27  159.86  25480063\n",
       "2  24-Aug-17  160.43  160.74  158.55  159.27  19818918\n",
       "3  23-Aug-17  159.07  160.47  158.88  159.98  19399081\n",
       "4  22-Aug-17  158.23  160.00  158.02  159.78  21604585"
      ]
     },
     "execution_count": 65,
     "metadata": {},
     "output_type": "execute_result"
    }
   ],
   "source": [
    "df.head()"
   ]
  },
  {
   "cell_type": "code",
   "execution_count": 66,
   "metadata": {
    "collapsed": false
   },
   "outputs": [
    {
     "data": {
      "text/html": [
       "<div>\n",
       "<table border=\"1\" class=\"dataframe\">\n",
       "  <thead>\n",
       "    <tr style=\"text-align: right;\">\n",
       "      <th></th>\n",
       "      <th>Date</th>\n",
       "      <th>Open</th>\n",
       "      <th>High</th>\n",
       "      <th>Low</th>\n",
       "      <th>Close</th>\n",
       "      <th>Volume</th>\n",
       "    </tr>\n",
       "  </thead>\n",
       "  <tbody>\n",
       "    <tr>\n",
       "      <th>246</th>\n",
       "      <td>6-Sep-16</td>\n",
       "      <td>107.90</td>\n",
       "      <td>108.30</td>\n",
       "      <td>107.51</td>\n",
       "      <td>107.70</td>\n",
       "      <td>26880391</td>\n",
       "    </tr>\n",
       "    <tr>\n",
       "      <th>247</th>\n",
       "      <td>2-Sep-16</td>\n",
       "      <td>107.70</td>\n",
       "      <td>108.00</td>\n",
       "      <td>106.82</td>\n",
       "      <td>107.73</td>\n",
       "      <td>26334858</td>\n",
       "    </tr>\n",
       "    <tr>\n",
       "      <th>248</th>\n",
       "      <td>1-Sep-16</td>\n",
       "      <td>106.14</td>\n",
       "      <td>106.80</td>\n",
       "      <td>105.62</td>\n",
       "      <td>106.73</td>\n",
       "      <td>26701523</td>\n",
       "    </tr>\n",
       "    <tr>\n",
       "      <th>249</th>\n",
       "      <td>31-Aug-16</td>\n",
       "      <td>105.66</td>\n",
       "      <td>106.57</td>\n",
       "      <td>105.64</td>\n",
       "      <td>106.10</td>\n",
       "      <td>29662406</td>\n",
       "    </tr>\n",
       "    <tr>\n",
       "      <th>250</th>\n",
       "      <td>30-Aug-16</td>\n",
       "      <td>105.80</td>\n",
       "      <td>106.50</td>\n",
       "      <td>105.50</td>\n",
       "      <td>106.00</td>\n",
       "      <td>24863945</td>\n",
       "    </tr>\n",
       "  </tbody>\n",
       "</table>\n",
       "</div>"
      ],
      "text/plain": [
       "          Date    Open    High     Low   Close    Volume\n",
       "246   6-Sep-16  107.90  108.30  107.51  107.70  26880391\n",
       "247   2-Sep-16  107.70  108.00  106.82  107.73  26334858\n",
       "248   1-Sep-16  106.14  106.80  105.62  106.73  26701523\n",
       "249  31-Aug-16  105.66  106.57  105.64  106.10  29662406\n",
       "250  30-Aug-16  105.80  106.50  105.50  106.00  24863945"
      ]
     },
     "execution_count": 66,
     "metadata": {},
     "output_type": "execute_result"
    }
   ],
   "source": [
    "df.tail()"
   ]
  },
  {
   "cell_type": "markdown",
   "metadata": {},
   "source": [
    "## 인터넷 상의 데이터 베이스 자료 입력"
   ]
  },
  {
   "cell_type": "markdown",
   "metadata": {},
   "source": [
    " pandas_datareader 패키지의 DataReader 을 써서 바로 pandas로 입력할 수도 있다.<br/>\n",
    " Yahoo! Finance<br/>\n",
    "Google Finance<br/>\n",
    "Enigma<br/>\n",
    "FRED<br/>\n",
    "Fama/French<br/>\n",
    "World Bank<br/>\n",
    "OECD<br/>\n",
    "Eurostat<br/>\n",
    "EDGAR Index<br/>\n",
    "TSP Fund Data<br/>\n",
    "Oanda currency historical rate<br/>\n",
    "Nasdaq Trader Symbol Definitions<br/>\n",
    "\n",
    "자세한 내용은 다음 웹사이트를 참조한다.\n",
    "https://pandas-datareader.readthedocs.io/en/latest/index.html"
   ]
  },
  {
   "cell_type": "code",
   "execution_count": 71,
   "metadata": {
    "collapsed": false
   },
   "outputs": [
    {
     "name": "stdout",
     "output_type": "stream",
     "text": [
      "Collecting pandas_datareader\n",
      "  Downloading pandas_datareader-0.5.0-py2.py3-none-any.whl (74kB)\n",
      "Collecting requests-ftp (from pandas_datareader)\n",
      "  Downloading requests-ftp-0.3.1.tar.gz\n",
      "Requirement already satisfied: requests>=2.3.0 in c:\\anaconda3\\lib\\site-packages (from pandas_datareader)\n",
      "Requirement already satisfied: pandas>=0.17.0 in c:\\anaconda3\\lib\\site-packages (from pandas_datareader)\n",
      "Collecting requests-file (from pandas_datareader)\n",
      "  Downloading requests-file-1.4.2.tar.gz\n",
      "Requirement already satisfied: python-dateutil>=2 in c:\\anaconda3\\lib\\site-packages (from pandas>=0.17.0->pandas_datareader)\n",
      "Requirement already satisfied: pytz>=2011k in c:\\anaconda3\\lib\\site-packages (from pandas>=0.17.0->pandas_datareader)\n",
      "Requirement already satisfied: numpy>=1.7.0 in c:\\anaconda3\\lib\\site-packages (from pandas>=0.17.0->pandas_datareader)\n",
      "Requirement already satisfied: six in c:\\anaconda3\\lib\\site-packages (from requests-file->pandas_datareader)\n",
      "Building wheels for collected packages: requests-ftp, requests-file\n",
      "  Running setup.py bdist_wheel for requests-ftp: started\n",
      "  Running setup.py bdist_wheel for requests-ftp: finished with status 'done'\n",
      "  Stored in directory: C:\\Users\\student\\AppData\\Local\\pip\\Cache\\wheels\\76\\fb\\0d\\1026eb562c34a4982dc9d39c9c582a734eefe7f0455f711deb\n",
      "  Running setup.py bdist_wheel for requests-file: started\n",
      "  Running setup.py bdist_wheel for requests-file: finished with status 'done'\n",
      "  Stored in directory: C:\\Users\\student\\AppData\\Local\\pip\\Cache\\wheels\\3e\\34\\3a\\c2e634ca7b545510c1b3b7d94dea084e5fdb5f33558f3c3a81\n",
      "Successfully built requests-ftp requests-file\n",
      "Installing collected packages: requests-ftp, requests-file, pandas-datareader\n",
      "Successfully installed pandas-datareader-0.5.0 requests-file-1.4.2 requests-ftp-0.3.1\n"
     ]
    }
   ],
   "source": [
    "!pip install pandas_datareader"
   ]
  },
  {
   "cell_type": "code",
   "execution_count": 72,
   "metadata": {
    "collapsed": false
   },
   "outputs": [],
   "source": [
    "from pandas_datareader.data import DataReader"
   ]
  },
  {
   "cell_type": "markdown",
   "metadata": {},
   "source": [
    "날짜는 datetime 패키지를 사용하여 지정해도 되고 문자열을 바로 사용해도 된다. (이 때는 내부적으로 datautil 패키지를 사용한다.)"
   ]
  },
  {
   "cell_type": "code",
   "execution_count": 76,
   "metadata": {
    "collapsed": true
   },
   "outputs": [],
   "source": [
    "import datetime\n",
    "dt_start = datetime.datetime(2015,1,1)\n",
    "dt_end = \"2016, 6, 30\""
   ]
  },
  {
   "cell_type": "markdown",
   "metadata": {},
   "source": [
    "data_source 인수로 데이터를 읽어올 웹사이트를 지정할 수 있다. 이 때 데이터의 이름을 지정하는 코드는 웹사이트마다 다르므로 주의한다."
   ]
  },
  {
   "cell_type": "code",
   "execution_count": 77,
   "metadata": {
    "collapsed": false
   },
   "outputs": [
    {
     "data": {
      "text/html": [
       "<div>\n",
       "<table border=\"1\" class=\"dataframe\">\n",
       "  <thead>\n",
       "    <tr style=\"text-align: right;\">\n",
       "      <th></th>\n",
       "      <th>Open</th>\n",
       "      <th>High</th>\n",
       "      <th>Low</th>\n",
       "      <th>Close</th>\n",
       "      <th>Volume</th>\n",
       "    </tr>\n",
       "    <tr>\n",
       "      <th>Date</th>\n",
       "      <th></th>\n",
       "      <th></th>\n",
       "      <th></th>\n",
       "      <th></th>\n",
       "      <th></th>\n",
       "    </tr>\n",
       "  </thead>\n",
       "  <tbody>\n",
       "    <tr>\n",
       "      <th>2016-06-24</th>\n",
       "      <td>1445000.0</td>\n",
       "      <td>1445000.0</td>\n",
       "      <td>1360000.0</td>\n",
       "      <td>1400000.0</td>\n",
       "      <td>408920</td>\n",
       "    </tr>\n",
       "    <tr>\n",
       "      <th>2016-06-27</th>\n",
       "      <td>1400000.0</td>\n",
       "      <td>1405000.0</td>\n",
       "      <td>1385000.0</td>\n",
       "      <td>1398000.0</td>\n",
       "      <td>236573</td>\n",
       "    </tr>\n",
       "    <tr>\n",
       "      <th>2016-06-28</th>\n",
       "      <td>1390000.0</td>\n",
       "      <td>1404000.0</td>\n",
       "      <td>1379000.0</td>\n",
       "      <td>1399000.0</td>\n",
       "      <td>213829</td>\n",
       "    </tr>\n",
       "    <tr>\n",
       "      <th>2016-06-29</th>\n",
       "      <td>1408000.0</td>\n",
       "      <td>1412000.0</td>\n",
       "      <td>1391000.0</td>\n",
       "      <td>1396000.0</td>\n",
       "      <td>208090</td>\n",
       "    </tr>\n",
       "    <tr>\n",
       "      <th>2016-06-30</th>\n",
       "      <td>1408000.0</td>\n",
       "      <td>1445000.0</td>\n",
       "      <td>1397000.0</td>\n",
       "      <td>1425000.0</td>\n",
       "      <td>272883</td>\n",
       "    </tr>\n",
       "  </tbody>\n",
       "</table>\n",
       "</div>"
      ],
      "text/plain": [
       "                 Open       High        Low      Close  Volume\n",
       "Date                                                          \n",
       "2016-06-24  1445000.0  1445000.0  1360000.0  1400000.0  408920\n",
       "2016-06-27  1400000.0  1405000.0  1385000.0  1398000.0  236573\n",
       "2016-06-28  1390000.0  1404000.0  1379000.0  1399000.0  213829\n",
       "2016-06-29  1408000.0  1412000.0  1391000.0  1396000.0  208090\n",
       "2016-06-30  1408000.0  1445000.0  1397000.0  1425000.0  272883"
      ]
     },
     "execution_count": 77,
     "metadata": {},
     "output_type": "execute_result"
    }
   ],
   "source": [
    "df=DataReader(\"KRX:005930\",\"google\",dt_start, dt_end)\n",
    "df.tail()"
   ]
  },
  {
   "cell_type": "code",
   "execution_count": 79,
   "metadata": {
    "collapsed": false
   },
   "outputs": [
    {
     "data": {
      "text/html": [
       "<div>\n",
       "<table border=\"1\" class=\"dataframe\">\n",
       "  <thead>\n",
       "    <tr style=\"text-align: right;\">\n",
       "      <th></th>\n",
       "      <th>GDP</th>\n",
       "    </tr>\n",
       "    <tr>\n",
       "      <th>DATE</th>\n",
       "      <th></th>\n",
       "    </tr>\n",
       "  </thead>\n",
       "  <tbody>\n",
       "    <tr>\n",
       "      <th>2015-01-01</th>\n",
       "      <td>17874.7</td>\n",
       "    </tr>\n",
       "    <tr>\n",
       "      <th>2015-04-01</th>\n",
       "      <td>18093.2</td>\n",
       "    </tr>\n",
       "    <tr>\n",
       "      <th>2015-07-01</th>\n",
       "      <td>18227.7</td>\n",
       "    </tr>\n",
       "    <tr>\n",
       "      <th>2015-10-01</th>\n",
       "      <td>18287.2</td>\n",
       "    </tr>\n",
       "    <tr>\n",
       "      <th>2016-01-01</th>\n",
       "      <td>18325.2</td>\n",
       "    </tr>\n",
       "    <tr>\n",
       "      <th>2016-04-01</th>\n",
       "      <td>18538.0</td>\n",
       "    </tr>\n",
       "  </tbody>\n",
       "</table>\n",
       "</div>"
      ],
      "text/plain": [
       "                GDP\n",
       "DATE               \n",
       "2015-01-01  17874.7\n",
       "2015-04-01  18093.2\n",
       "2015-07-01  18227.7\n",
       "2015-10-01  18287.2\n",
       "2016-01-01  18325.2\n",
       "2016-04-01  18538.0"
      ]
     },
     "execution_count": 79,
     "metadata": {},
     "output_type": "execute_result"
    }
   ],
   "source": [
    "gdp=DataReader(\"GDP\",\"fred\",dt_start, dt_end)\n",
    "gdp"
   ]
  },
  {
   "cell_type": "code",
   "execution_count": 80,
   "metadata": {
    "collapsed": false
   },
   "outputs": [
    {
     "data": {
      "text/html": [
       "<div>\n",
       "<table border=\"1\" class=\"dataframe\">\n",
       "  <thead>\n",
       "    <tr style=\"text-align: right;\">\n",
       "      <th></th>\n",
       "      <th>CPIAUCSL</th>\n",
       "      <th>CPILFESL</th>\n",
       "    </tr>\n",
       "    <tr>\n",
       "      <th>DATE</th>\n",
       "      <th></th>\n",
       "      <th></th>\n",
       "    </tr>\n",
       "  </thead>\n",
       "  <tbody>\n",
       "    <tr>\n",
       "      <th>2015-01-01</th>\n",
       "      <td>234.913</td>\n",
       "      <td>239.910</td>\n",
       "    </tr>\n",
       "    <tr>\n",
       "      <th>2015-02-01</th>\n",
       "      <td>235.489</td>\n",
       "      <td>240.236</td>\n",
       "    </tr>\n",
       "    <tr>\n",
       "      <th>2015-03-01</th>\n",
       "      <td>235.989</td>\n",
       "      <td>240.783</td>\n",
       "    </tr>\n",
       "    <tr>\n",
       "      <th>2015-04-01</th>\n",
       "      <td>236.201</td>\n",
       "      <td>241.366</td>\n",
       "    </tr>\n",
       "    <tr>\n",
       "      <th>2015-05-01</th>\n",
       "      <td>236.891</td>\n",
       "      <td>241.662</td>\n",
       "    </tr>\n",
       "    <tr>\n",
       "      <th>2015-06-01</th>\n",
       "      <td>237.419</td>\n",
       "      <td>242.021</td>\n",
       "    </tr>\n",
       "    <tr>\n",
       "      <th>2015-07-01</th>\n",
       "      <td>237.876</td>\n",
       "      <td>242.480</td>\n",
       "    </tr>\n",
       "    <tr>\n",
       "      <th>2015-08-01</th>\n",
       "      <td>237.811</td>\n",
       "      <td>242.754</td>\n",
       "    </tr>\n",
       "    <tr>\n",
       "      <th>2015-09-01</th>\n",
       "      <td>237.467</td>\n",
       "      <td>243.249</td>\n",
       "    </tr>\n",
       "    <tr>\n",
       "      <th>2015-10-01</th>\n",
       "      <td>237.792</td>\n",
       "      <td>243.719</td>\n",
       "    </tr>\n",
       "    <tr>\n",
       "      <th>2015-11-01</th>\n",
       "      <td>238.153</td>\n",
       "      <td>244.221</td>\n",
       "    </tr>\n",
       "    <tr>\n",
       "      <th>2015-12-01</th>\n",
       "      <td>237.846</td>\n",
       "      <td>244.581</td>\n",
       "    </tr>\n",
       "    <tr>\n",
       "      <th>2016-01-01</th>\n",
       "      <td>238.106</td>\n",
       "      <td>245.232</td>\n",
       "    </tr>\n",
       "    <tr>\n",
       "      <th>2016-02-01</th>\n",
       "      <td>237.808</td>\n",
       "      <td>245.845</td>\n",
       "    </tr>\n",
       "    <tr>\n",
       "      <th>2016-03-01</th>\n",
       "      <td>238.078</td>\n",
       "      <td>246.062</td>\n",
       "    </tr>\n",
       "    <tr>\n",
       "      <th>2016-04-01</th>\n",
       "      <td>238.908</td>\n",
       "      <td>246.517</td>\n",
       "    </tr>\n",
       "    <tr>\n",
       "      <th>2016-05-01</th>\n",
       "      <td>239.362</td>\n",
       "      <td>247.026</td>\n",
       "    </tr>\n",
       "    <tr>\n",
       "      <th>2016-06-01</th>\n",
       "      <td>239.842</td>\n",
       "      <td>247.389</td>\n",
       "    </tr>\n",
       "  </tbody>\n",
       "</table>\n",
       "</div>"
      ],
      "text/plain": [
       "            CPIAUCSL  CPILFESL\n",
       "DATE                          \n",
       "2015-01-01   234.913   239.910\n",
       "2015-02-01   235.489   240.236\n",
       "2015-03-01   235.989   240.783\n",
       "2015-04-01   236.201   241.366\n",
       "2015-05-01   236.891   241.662\n",
       "2015-06-01   237.419   242.021\n",
       "2015-07-01   237.876   242.480\n",
       "2015-08-01   237.811   242.754\n",
       "2015-09-01   237.467   243.249\n",
       "2015-10-01   237.792   243.719\n",
       "2015-11-01   238.153   244.221\n",
       "2015-12-01   237.846   244.581\n",
       "2016-01-01   238.106   245.232\n",
       "2016-02-01   237.808   245.845\n",
       "2016-03-01   238.078   246.062\n",
       "2016-04-01   238.908   246.517\n",
       "2016-05-01   239.362   247.026\n",
       "2016-06-01   239.842   247.389"
      ]
     },
     "execution_count": 80,
     "metadata": {},
     "output_type": "execute_result"
    }
   ],
   "source": [
    "inflation=DataReader([\"CPIAUCSL\",\"CPILFESL\"],\"fred\",dt_start,dt_end)\n",
    "inflation"
   ]
  }
 ],
 "metadata": {
  "kernelspec": {
   "display_name": "Python 3",
   "language": "python",
   "name": "python3"
  },
  "language_info": {
   "codemirror_mode": {
    "name": "ipython",
    "version": 3
   },
   "file_extension": ".py",
   "mimetype": "text/x-python",
   "name": "python",
   "nbconvert_exporter": "python",
   "pygments_lexer": "ipython3",
   "version": "3.6.2"
  }
 },
 "nbformat": 4,
 "nbformat_minor": 2
}
